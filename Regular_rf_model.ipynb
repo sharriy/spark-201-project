{
 "cells": [
  {
   "cell_type": "code",
   "execution_count": 1,
   "id": "efe4f9c1",
   "metadata": {},
   "outputs": [],
   "source": [
    "import numpy as np\n",
    "import pandas as pd\n",
    "from sklearn.ensemble import RandomForestClassifier\n",
    "import pickle as pk"
   ]
  },
  {
   "cell_type": "code",
   "execution_count": 2,
   "id": "a4e67fe4",
   "metadata": {},
   "outputs": [],
   "source": [
    "train_df = pd.read_csv('data/fraudTrain.csv')\n",
    "test_df = pd.read_csv('data/fraudTest.csv')\n",
    "train_df.drop(columns=['Unnamed: 0'],inplace=True)\n",
    "test_df.drop(columns=['Unnamed: 0'],inplace=True)"
   ]
  },
  {
   "cell_type": "code",
   "execution_count": 3,
   "id": "be3545cf-a812-44e6-a914-e8d1672c51d7",
   "metadata": {},
   "outputs": [],
   "source": [
    "def post_process(data):\n",
    "    if data <= 0.5:\n",
    "        data = \"Not Fraud\"\n",
    "    else:\n",
    "        data = \"Fraud\"\n",
    "    return data"
   ]
  },
  {
   "cell_type": "code",
   "execution_count": 4,
   "id": "a52b5b6c-0503-4fc1-974d-c88ccd010710",
   "metadata": {},
   "outputs": [],
   "source": [
    "def pre_year(data):    \n",
    "    data = data.split(\"-\")\n",
    "    return data [0]"
   ]
  },
  {
   "cell_type": "code",
   "execution_count": 5,
   "id": "c51b4bca-46ab-4ef7-832a-32757064a99c",
   "metadata": {},
   "outputs": [],
   "source": [
    "def pre_hour(data):\n",
    "    data = data.split(\":\")\n",
    "    return data [0]"
   ]
  },
  {
   "cell_type": "code",
   "execution_count": 6,
   "id": "9fc838b0-308e-4dcd-bfa7-5f926de7a57e",
   "metadata": {},
   "outputs": [],
   "source": [
    "def pre_age(data):\n",
    "    age = 2021 - data\n",
    "    return age"
   ]
  },
  {
   "cell_type": "code",
   "execution_count": 7,
   "id": "9fe16560-4a4a-4b29-b26a-1ef5868a6ea8",
   "metadata": {},
   "outputs": [],
   "source": [
    "def pre_time(data):\n",
    "    data = data.split(\" \")\n",
    "    return data[1]"
   ]
  },
  {
   "cell_type": "code",
   "execution_count": 8,
   "id": "c5caebf0",
   "metadata": {},
   "outputs": [],
   "source": [
    "def transform(df):\n",
    "\n",
    "    df['amt'] = df['amt'].astype(int)\n",
    "    df['city_pop'] = df['city_pop'].astype(int)\n",
    "    df['year'] = df['dob'].apply(pre_year).astype(int)\n",
    "    df['age'] = df['year'].apply(pre_age).astype(int)\n",
    "    df['time_old'] = df['trans_date_trans_time'].apply(pre_time)\n",
    "    df['time'] = df['time_old'].apply(pre_hour).astype(int)\n",
    "    df['is_fraud'] = df['is_fraud'].astype(int)\n",
    "    \n",
    "    return df"
   ]
  },
  {
   "cell_type": "code",
   "execution_count": 9,
   "id": "6276b4ed",
   "metadata": {},
   "outputs": [],
   "source": [
    "train_df = transform(train_df)\n",
    "test_df = transform(test_df)"
   ]
  },
  {
   "cell_type": "code",
   "execution_count": 10,
   "id": "4f2a391b",
   "metadata": {},
   "outputs": [],
   "source": [
    "feature_columns = ['time', 'amt', 'city_pop', 'age']\n",
    "label_column = ['is_fraud']\n",
    "\n",
    "train_X = train_df[feature_columns].to_numpy()\n",
    "train_y = train_df[label_column].to_numpy().ravel()\n",
    "\n",
    "test_X = test_df[feature_columns].to_numpy()\n",
    "test_y = test_df[label_column].to_numpy().ravel()"
   ]
  },
  {
   "cell_type": "code",
   "execution_count": 11,
   "id": "b52739ff",
   "metadata": {},
   "outputs": [
    {
     "name": "stdout",
     "output_type": "stream",
     "text": [
      "CPU times: user 6.45 s, sys: 120 ms, total: 6.57 s\n",
      "Wall time: 6.57 s\n"
     ]
    }
   ],
   "source": [
    "%%time\n",
    "rf = RandomForestClassifier(n_estimators=10, max_depth=3, random_state=6)\n",
    "model = rf.fit(train_X,train_y)"
   ]
  },
  {
   "cell_type": "code",
   "execution_count": 12,
   "id": "b4334ab3",
   "metadata": {},
   "outputs": [
    {
     "name": "stdout",
     "output_type": "stream",
     "text": [
      "CPU times: user 220 ms, sys: 16.4 ms, total: 236 ms\n",
      "Wall time: 234 ms\n"
     ]
    },
    {
     "data": {
      "text/plain": [
       "0.9970524671641603"
      ]
     },
     "execution_count": 12,
     "metadata": {},
     "output_type": "execute_result"
    }
   ],
   "source": [
    "%%time\n",
    "rf.score(test_X,test_y)"
   ]
  },
  {
   "cell_type": "code",
   "execution_count": 13,
   "id": "d479ca93",
   "metadata": {},
   "outputs": [],
   "source": [
    "with open('rf_model.pkl','wb') as f:\n",
    "    pk.dump(model,f)"
   ]
  }
 ],
 "metadata": {
  "kernelspec": {
   "display_name": "Python 3 (ipykernel)",
   "language": "python",
   "name": "python3"
  },
  "language_info": {
   "codemirror_mode": {
    "name": "ipython",
    "version": 3
   },
   "file_extension": ".py",
   "mimetype": "text/x-python",
   "name": "python",
   "nbconvert_exporter": "python",
   "pygments_lexer": "ipython3",
   "version": "3.9.7"
  }
 },
 "nbformat": 4,
 "nbformat_minor": 5
}
