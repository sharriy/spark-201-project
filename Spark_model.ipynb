{
 "cells": [
  {
   "cell_type": "code",
   "execution_count": 1,
   "id": "aebafe63-6552-451f-8951-2895b5c18348",
   "metadata": {},
   "outputs": [],
   "source": [
    "import findspark\n",
    "findspark.init()"
   ]
  },
  {
   "cell_type": "code",
   "execution_count": 2,
   "id": "c842eb55-395e-4d60-bdc4-e068f90066ce",
   "metadata": {},
   "outputs": [],
   "source": [
    "from pyspark.sql import SparkSession\n",
    "from pyspark.sql.functions import col, udf,lit\n",
    "from pyspark.sql.types import DoubleType, IntegerType\n",
    "from pyspark.ml.feature import VectorAssembler\n",
    "from pyspark.ml.classification import RandomForestClassifier\n",
    "from pyspark.ml import Pipeline\n",
    "import pickle\n",
    "import pandas as pd\n",
    "import numpy as np\n",
    "from transform import *\n",
    "\n",
    "import warnings\n",
    "warnings.filterwarnings(\"ignore\")"
   ]
  },
  {
   "cell_type": "code",
   "execution_count": 3,
   "id": "7adeb51b-da26-4215-941e-612101d900ab",
   "metadata": {},
   "outputs": [
    {
     "name": "stderr",
     "output_type": "stream",
     "text": [
      "WARNING: An illegal reflective access operation has occurred\n",
      "WARNING: Illegal reflective access by org.apache.spark.unsafe.Platform (file:/usr/local/Cellar/apache-spark/3.2.1/libexec/jars/spark-unsafe_2.12-3.2.1.jar) to constructor java.nio.DirectByteBuffer(long,int)\n",
      "WARNING: Please consider reporting this to the maintainers of org.apache.spark.unsafe.Platform\n",
      "WARNING: Use --illegal-access=warn to enable warnings of further illegal reflective access operations\n",
      "WARNING: All illegal access operations will be denied in a future release\n",
      "Setting default log level to \"WARN\".\n",
      "To adjust logging level use sc.setLogLevel(newLevel). For SparkR, use setLogLevel(newLevel).\n"
     ]
    }
   ],
   "source": [
    "spark = SparkSession.builder \\\n",
    "                    .master(\"local[*]\") \\\n",
    "                    .appName('Spark-201-project') \\\n",
    "                    .getOrCreate()\n",
    "\n",
    "sc = spark.sparkContext"
   ]
  },
  {
   "cell_type": "markdown",
   "id": "2c4828cc",
   "metadata": {},
   "source": [
    "## Read train and test data"
   ]
  },
  {
   "cell_type": "code",
   "execution_count": 41,
   "id": "744422b3-6d75-4daa-8109-e67603bbbc60",
   "metadata": {},
   "outputs": [
    {
     "name": "stdout",
     "output_type": "stream",
     "text": [
      "CPU times: user 2.09 ms, sys: 3.49 ms, total: 5.57 ms\n",
      "Wall time: 326 ms\n"
     ]
    }
   ],
   "source": [
    "%%time\n",
    "train_df = spark.read.csv('data/fraudTrain.csv', header=True)\n",
    "test_df = spark.read.csv('data/fraudTest.csv', header=True)"
   ]
  },
  {
   "cell_type": "code",
   "execution_count": 43,
   "id": "c1e76fb3",
   "metadata": {},
   "outputs": [
    {
     "name": "stdout",
     "output_type": "stream",
     "text": [
      "+---+---------------------+----------------+--------------------+-------------+------+---------+-------+------+--------------------+--------------+-----+-----+-------+---------+--------+--------------------+----------+--------------------+----------+------------------+-----------+--------+\n",
      "|_c0|trans_date_trans_time|          cc_num|            merchant|     category|   amt|    first|   last|gender|              street|          city|state|  zip|    lat|     long|city_pop|                 job|       dob|           trans_num| unix_time|         merch_lat| merch_long|is_fraud|\n",
      "+---+---------------------+----------------+--------------------+-------------+------+---------+-------+------+--------------------+--------------+-----+-----+-------+---------+--------+--------------------+----------+--------------------+----------+------------------+-----------+--------+\n",
      "|  0|  2019-01-01 00:00:18|2703186189652095|fraud_Rippin, Kub...|     misc_net|  4.97| Jennifer|  Banks|     F|      561 Perry Cove|Moravian Falls|   NC|28654|36.0788| -81.1781|    3495|Psychologist, cou...|1988-03-09|0b242abb623afc578...|1325376018|         36.011293| -82.048315|       0|\n",
      "|  1|  2019-01-01 00:00:44|    630423337322|fraud_Heller, Gut...|  grocery_pos|107.23|Stephanie|   Gill|     F|43039 Riley Green...|        Orient|   WA|99160|48.8878|-118.2105|     149|Special education...|1978-06-21|1f76529f857473494...|1325376044|49.159046999999994|-118.186462|       0|\n",
      "|  2|  2019-01-01 00:00:51|  38859492057661|fraud_Lind-Buckridge|entertainment|220.11|   Edward|Sanchez|     M|594 White Dale Su...|    Malad City|   ID|83252|42.1808| -112.262|    4154|Nature conservati...|1962-01-19|a1a22d70485983eac...|1325376051|         43.150704|-112.154481|       0|\n",
      "|  3|  2019-01-01 00:01:16|3534093764340240|fraud_Kutch, Herm...|gas_transport|  45.0|   Jeremy|  White|     M|9443 Cynthia Cour...|       Boulder|   MT|59632|46.2306|-112.1138|    1939|     Patent attorney|1967-01-12|6b849c168bdad6f86...|1325376076|         47.034331|-112.561071|       0|\n",
      "|  4|  2019-01-01 00:03:06| 375534208663984| fraud_Keeling-Crist|     misc_pos| 41.96|    Tyler| Garcia|     M|    408 Bradley Rest|      Doe Hill|   VA|24433|38.4207| -79.4629|      99|Dance movement ps...|1986-03-28|a41d7549acf907893...|1325376186|         38.674999| -78.632459|       0|\n",
      "+---+---------------------+----------------+--------------------+-------------+------+---------+-------+------+--------------------+--------------+-----+-----+-------+---------+--------+--------------------+----------+--------------------+----------+------------------+-----------+--------+\n",
      "only showing top 5 rows\n",
      "\n"
     ]
    }
   ],
   "source": [
    "train_df.show(5)"
   ]
  },
  {
   "cell_type": "markdown",
   "id": "ed355046",
   "metadata": {},
   "source": [
    "### Transform data using transformation pipeline"
   ]
  },
  {
   "cell_type": "code",
   "execution_count": 5,
   "id": "7efc7fbe",
   "metadata": {},
   "outputs": [],
   "source": [
    "get_age_fn = get_age_from_dob(input_col=\"dob\", output_col=\"age\")\n",
    "get_time_fn = get_time(input_col=\"trans_date_trans_time\", output_col=\"time\")\n",
    "amt_int_fn = cast_int(input_col=\"amt\",output_col=\"amt\")\n",
    "city_pop_int_fn = cast_int(input_col=\"city_pop\",output_col=\"city_pop\")\n",
    "is_fraud_int_fn = cast_int(input_col=\"is_fraud\",output_col=\"is_fraud\")\n",
    "\n",
    "transformer_pipeline = Pipeline(stages=[get_age_fn,get_time_fn,amt_int_fn,city_pop_int_fn,is_fraud_int_fn])"
   ]
  },
  {
   "cell_type": "code",
   "execution_count": 6,
   "id": "5d94b8fc",
   "metadata": {},
   "outputs": [
    {
     "name": "stdout",
     "output_type": "stream",
     "text": [
      "CPU times: user 22.5 ms, sys: 34.6 ms, total: 57.1 ms\n",
      "Wall time: 275 ms\n"
     ]
    }
   ],
   "source": [
    "%%time\n",
    "transformer_model = transformer_pipeline.fit(train_df)\n",
    "train_df = transformer_model.transform(train_df)\n",
    "test_df = transformer_model.transform(test_df)"
   ]
  },
  {
   "cell_type": "code",
   "execution_count": 7,
   "id": "4485a7ff-39d3-40f5-a00f-aadf11a63733",
   "metadata": {},
   "outputs": [],
   "source": [
    "train_data = train_df.select(col(\"time\"), col(\"amt\"), col(\"city_pop\"), col(\"age\"), col(\"is_fraud\"))\n",
    "test_data = test_df.select(col(\"time\"), col(\"amt\"), col(\"city_pop\"), col(\"age\"), col(\"is_fraud\"))"
   ]
  },
  {
   "cell_type": "code",
   "execution_count": 8,
   "id": "27123308-0b4e-446c-ba32-4604674eba4b",
   "metadata": {},
   "outputs": [
    {
     "name": "stdout",
     "output_type": "stream",
     "text": [
      "+----+---+--------+---+--------+\n",
      "|time|amt|city_pop|age|is_fraud|\n",
      "+----+---+--------+---+--------+\n",
      "|   0|  4|    3495| 33|       0|\n",
      "|   0|107|     149| 43|       0|\n",
      "|   0|220|    4154| 59|       0|\n",
      "|   0| 45|    1939| 54|       0|\n",
      "|   0| 41|      99| 35|       0|\n",
      "|   0| 94|    2158| 60|       0|\n",
      "|   0| 44|    2691| 28|       0|\n",
      "|   0| 71|    6018| 74|       0|\n",
      "|   0|  4|    1472| 80|       0|\n",
      "|   0|198|  151785| 47|       0|\n",
      "|   0| 24|    7297| 31|       0|\n",
      "|   0|  7|    1925| 55|       0|\n",
      "|   0| 71|  341043| 32|       0|\n",
      "|   0| 96|     589| 76|       0|\n",
      "|   0|  7|     899| 54|       0|\n",
      "|   0|  3|    4664| 56|       0|\n",
      "|   0|327|    1078| 69|       0|\n",
      "|   0|341|    4081| 83|       0|\n",
      "|   0| 63|    2518| 75|       0|\n",
      "|   0| 44|  124967| 41|       0|\n",
      "+----+---+--------+---+--------+\n",
      "only showing top 20 rows\n",
      "\n",
      "root\n",
      " |-- time: integer (nullable = true)\n",
      " |-- amt: integer (nullable = true)\n",
      " |-- city_pop: integer (nullable = true)\n",
      " |-- age: integer (nullable = true)\n",
      " |-- is_fraud: integer (nullable = true)\n",
      "\n"
     ]
    },
    {
     "name": "stderr",
     "output_type": "stream",
     "text": [
      "\r",
      "[Stage 2:>                                                          (0 + 1) / 1]\r",
      "\r",
      "                                                                                \r"
     ]
    }
   ],
   "source": [
    "train_data.show()\n",
    "train_data.printSchema()"
   ]
  },
  {
   "cell_type": "markdown",
   "id": "51d65e23",
   "metadata": {},
   "source": [
    "## PySpark Model"
   ]
  },
  {
   "cell_type": "markdown",
   "id": "83399925",
   "metadata": {},
   "source": [
    "### Create features for training model"
   ]
  },
  {
   "cell_type": "code",
   "execution_count": 9,
   "id": "a9ea8764",
   "metadata": {},
   "outputs": [],
   "source": [
    "feature_columns = ['time', 'amt', 'city_pop', 'age']\n",
    "assembler = VectorAssembler(inputCols=feature_columns, outputCol='features')\n",
    "train_data = assembler.transform(train_data)\n",
    "test_data = assembler.transform(test_data)"
   ]
  },
  {
   "cell_type": "markdown",
   "id": "b74661d9",
   "metadata": {},
   "source": [
    "### Train"
   ]
  },
  {
   "cell_type": "code",
   "execution_count": 10,
   "id": "d87e4ce4",
   "metadata": {},
   "outputs": [],
   "source": [
    "rf = RandomForestClassifier(maxDepth=3,numTrees=10,labelCol=\"is_fraud\",featuresCol='features', seed=6)"
   ]
  },
  {
   "cell_type": "code",
   "execution_count": 11,
   "id": "225c9b9b",
   "metadata": {},
   "outputs": [
    {
     "name": "stderr",
     "output_type": "stream",
     "text": [
      "                                                                                \r"
     ]
    },
    {
     "name": "stdout",
     "output_type": "stream",
     "text": [
      "CPU times: user 28 ms, sys: 44.7 ms, total: 72.7 ms\n",
      "Wall time: 12.1 s\n"
     ]
    }
   ],
   "source": [
    "%%time\n",
    "rf_model_spark = rf.fit(train_data)"
   ]
  },
  {
   "cell_type": "markdown",
   "id": "1db00667",
   "metadata": {},
   "source": [
    "### Predictions"
   ]
  },
  {
   "cell_type": "code",
   "execution_count": 12,
   "id": "5075b8ff",
   "metadata": {},
   "outputs": [
    {
     "name": "stdout",
     "output_type": "stream",
     "text": [
      "CPU times: user 5.89 ms, sys: 10 ms, total: 15.9 ms\n",
      "Wall time: 58.7 ms\n"
     ]
    }
   ],
   "source": [
    "%%time\n",
    "predictions = rf_model_spark.transform(test_data)"
   ]
  },
  {
   "cell_type": "code",
   "execution_count": 13,
   "id": "093c68d2",
   "metadata": {},
   "outputs": [
    {
     "name": "stderr",
     "output_type": "stream",
     "text": [
      "                                                                                \r"
     ]
    },
    {
     "name": "stdout",
     "output_type": "stream",
     "text": [
      "Accuracy:  0.9961401355721147\n",
      "CPU times: user 11 ms, sys: 28.6 ms, total: 39.5 ms\n",
      "Wall time: 1.63 s\n"
     ]
    }
   ],
   "source": [
    "%%time\n",
    "correct = predictions.where(col('prediction')==col('is_fraud')).count()\n",
    "total = predictions.count()\n",
    "\n",
    "print(\"Accuracy: \", correct/total)"
   ]
  },
  {
   "cell_type": "markdown",
   "id": "7af38049",
   "metadata": {},
   "source": [
    "## Load and broadcast a previously trained RF model"
   ]
  },
  {
   "cell_type": "code",
   "execution_count": 14,
   "id": "ae33cbe3-0570-4ae8-a915-bb6ea97a7e79",
   "metadata": {},
   "outputs": [],
   "source": [
    "model_data = sc.binaryFiles(\"rf_model.pkl\").collect()\n",
    "rf_model = pickle.loads(model_data[0][1])\n",
    "rf_model_bc = sc.broadcast(rf_model)\n",
    "\n",
    "def predict_fn(*cols):\n",
    "    cols = np.array(cols).reshape((1,-1))\n",
    "    prediction = rf_model_bc.value.predict_proba((cols))\n",
    "    return int( float(prediction[0,1]) > 0.5 )\n",
    "\n",
    "predict = udf(predict_fn, IntegerType())"
   ]
  },
  {
   "cell_type": "markdown",
   "id": "d2bae751",
   "metadata": {},
   "source": [
    "### Predictions"
   ]
  },
  {
   "cell_type": "code",
   "execution_count": 15,
   "id": "16ff4273",
   "metadata": {},
   "outputs": [
    {
     "name": "stderr",
     "output_type": "stream",
     "text": [
      "\r",
      "[Stage 23:>                                                         (0 + 1) / 1]\r"
     ]
    },
    {
     "name": "stdout",
     "output_type": "stream",
     "text": [
      "+----+---+--------+---+--------+--------------------+-----+\n",
      "|time|amt|city_pop|age|is_fraud|            features|score|\n",
      "+----+---+--------+---+--------+--------------------+-----+\n",
      "|  12|  2|  333497| 53|       0|[12.0,2.0,333497....|    0|\n",
      "|  12| 29|     302| 31|       0|[12.0,29.0,302.0,...|    0|\n",
      "|  12| 41|   34496| 51|       0|[12.0,41.0,34496....|    0|\n",
      "|  12| 60|   54767| 34|       0|[12.0,60.0,54767....|    0|\n",
      "|  12|  3|    1126| 66|       0|[12.0,3.0,1126.0,...|    0|\n",
      "|  12| 19|     520| 30|       0|[12.0,19.0,520.0,...|    0|\n",
      "|  12|133|    1139| 70|       0|[12.0,133.0,1139....|    0|\n",
      "|  12| 10|     343| 49|       0|[12.0,10.0,343.0,...|    0|\n",
      "|  12|  4|    3688| 48|       0|[12.0,4.0,3688.0,...|    0|\n",
      "|  12| 66|     263| 65|       0|[12.0,66.0,263.0,...|    0|\n",
      "|  12|  7|     564| 25|       0|[12.0,7.0,564.0,2...|    0|\n",
      "|  12| 42|    1645| 45|       0|[12.0,42.0,1645.0...|    0|\n",
      "|  12|  2|   26551| 44|       0|[12.0,2.0,26551.0...|    0|\n",
      "|  12|  7|    2258| 84|       0|[12.0,7.0,2258.0,...|    0|\n",
      "|  12|  2|    1089| 50|       0|[12.0,2.0,1089.0,...|    0|\n",
      "|  12| 24|   88735| 33|       0|[12.0,24.0,88735....|    0|\n",
      "|  12|  2|   32891| 34|       0|[12.0,2.0,32891.0...|    0|\n",
      "|  12| 16|    5875| 29|       0|[12.0,16.0,5875.0...|    0|\n",
      "|  12| 80|   10076| 44|       0|[12.0,80.0,10076....|    0|\n",
      "|  12|  5|     606| 24|       0|[12.0,5.0,606.0,2...|    0|\n",
      "+----+---+--------+---+--------+--------------------+-----+\n",
      "only showing top 20 rows\n",
      "\n",
      "CPU times: user 6.98 ms, sys: 7.74 ms, total: 14.7 ms\n",
      "Wall time: 27.3 s\n"
     ]
    },
    {
     "name": "stderr",
     "output_type": "stream",
     "text": [
      "\r",
      "                                                                                \r"
     ]
    }
   ],
   "source": [
    "%%time\n",
    "df = test_data.withColumn(\"score\", predict(*feature_columns))\n",
    "df.show()"
   ]
  },
  {
   "cell_type": "code",
   "execution_count": 16,
   "id": "c1e981c3",
   "metadata": {},
   "outputs": [
    {
     "name": "stderr",
     "output_type": "stream",
     "text": [
      "                                                                                \r"
     ]
    },
    {
     "name": "stdout",
     "output_type": "stream",
     "text": [
      "0.9970524671641603\n",
      "CPU times: user 13.2 ms, sys: 13.5 ms, total: 26.7 ms\n",
      "Wall time: 1min 24s\n"
     ]
    }
   ],
   "source": [
    "%%time\n",
    "correct = df.filter(col('score')==col('is_fraud')).count()\n",
    "total = df.count()\n",
    "\n",
    "print(correct/total)"
   ]
  },
  {
   "cell_type": "markdown",
   "id": "6a413c40",
   "metadata": {},
   "source": [
    "## Caching\n"
   ]
  },
  {
   "cell_type": "code",
   "execution_count": 17,
   "id": "056d8687",
   "metadata": {},
   "outputs": [
    {
     "data": {
      "text/plain": [
       "DataFrame[time: int, amt: int, city_pop: int, age: int, is_fraud: int, features: vector]"
      ]
     },
     "execution_count": 17,
     "metadata": {},
     "output_type": "execute_result"
    }
   ],
   "source": [
    "train_data.cache()\n",
    "test_data.cache()"
   ]
  },
  {
   "cell_type": "markdown",
   "id": "c71fb1c8",
   "metadata": {},
   "source": [
    "### Re-train Pyspark model"
   ]
  },
  {
   "cell_type": "code",
   "execution_count": 18,
   "id": "d4c09869",
   "metadata": {},
   "outputs": [
    {
     "name": "stderr",
     "output_type": "stream",
     "text": [
      "                                                                                \r"
     ]
    },
    {
     "name": "stdout",
     "output_type": "stream",
     "text": [
      "CPU times: user 26.9 ms, sys: 51 ms, total: 77.8 ms\n",
      "Wall time: 7.57 s\n"
     ]
    }
   ],
   "source": [
    "%%time\n",
    "rf_model_spark = rf.fit(train_data)"
   ]
  },
  {
   "cell_type": "markdown",
   "id": "c2f3f160",
   "metadata": {},
   "source": [
    "### Predictions"
   ]
  },
  {
   "cell_type": "code",
   "execution_count": 19,
   "id": "e8ddee85",
   "metadata": {},
   "outputs": [
    {
     "name": "stdout",
     "output_type": "stream",
     "text": [
      "CPU times: user 9.6 ms, sys: 15.6 ms, total: 25.2 ms\n",
      "Wall time: 68.1 ms\n"
     ]
    }
   ],
   "source": [
    "%%time\n",
    "predictions = rf_model_spark.transform(test_data)"
   ]
  },
  {
   "cell_type": "code",
   "execution_count": 20,
   "id": "51a9f6fc",
   "metadata": {
    "scrolled": true
   },
   "outputs": [
    {
     "name": "stderr",
     "output_type": "stream",
     "text": [
      "                                                                                \r"
     ]
    },
    {
     "name": "stdout",
     "output_type": "stream",
     "text": [
      "Accuracy:  0.9961401355721147\n",
      "CPU times: user 9.78 ms, sys: 19.9 ms, total: 29.7 ms\n",
      "Wall time: 2.13 s\n"
     ]
    }
   ],
   "source": [
    "%%time\n",
    "correct = predictions.where(col('prediction')==col('is_fraud')).count()\n",
    "total = predictions.count()\n",
    "\n",
    "print(\"Accuracy: \", correct/total)"
   ]
  },
  {
   "cell_type": "markdown",
   "id": "44a97dbd",
   "metadata": {},
   "source": [
    "### Predictions for broadcasted model"
   ]
  },
  {
   "cell_type": "code",
   "execution_count": 21,
   "id": "dc25d35a",
   "metadata": {},
   "outputs": [
    {
     "name": "stderr",
     "output_type": "stream",
     "text": [
      "\r",
      "[Stage 49:>                                                         (0 + 1) / 1]\r"
     ]
    },
    {
     "name": "stdout",
     "output_type": "stream",
     "text": [
      "+----+---+--------+---+--------+--------------------+-----+\n",
      "|time|amt|city_pop|age|is_fraud|            features|score|\n",
      "+----+---+--------+---+--------+--------------------+-----+\n",
      "|  12|  2|  333497| 53|       0|[12.0,2.0,333497....|    0|\n",
      "|  12| 29|     302| 31|       0|[12.0,29.0,302.0,...|    0|\n",
      "|  12| 41|   34496| 51|       0|[12.0,41.0,34496....|    0|\n",
      "|  12| 60|   54767| 34|       0|[12.0,60.0,54767....|    0|\n",
      "|  12|  3|    1126| 66|       0|[12.0,3.0,1126.0,...|    0|\n",
      "|  12| 19|     520| 30|       0|[12.0,19.0,520.0,...|    0|\n",
      "|  12|133|    1139| 70|       0|[12.0,133.0,1139....|    0|\n",
      "|  12| 10|     343| 49|       0|[12.0,10.0,343.0,...|    0|\n",
      "|  12|  4|    3688| 48|       0|[12.0,4.0,3688.0,...|    0|\n",
      "|  12| 66|     263| 65|       0|[12.0,66.0,263.0,...|    0|\n",
      "|  12|  7|     564| 25|       0|[12.0,7.0,564.0,2...|    0|\n",
      "|  12| 42|    1645| 45|       0|[12.0,42.0,1645.0...|    0|\n",
      "|  12|  2|   26551| 44|       0|[12.0,2.0,26551.0...|    0|\n",
      "|  12|  7|    2258| 84|       0|[12.0,7.0,2258.0,...|    0|\n",
      "|  12|  2|    1089| 50|       0|[12.0,2.0,1089.0,...|    0|\n",
      "|  12| 24|   88735| 33|       0|[12.0,24.0,88735....|    0|\n",
      "|  12|  2|   32891| 34|       0|[12.0,2.0,32891.0...|    0|\n",
      "|  12| 16|    5875| 29|       0|[12.0,16.0,5875.0...|    0|\n",
      "|  12| 80|   10076| 44|       0|[12.0,80.0,10076....|    0|\n",
      "|  12|  5|     606| 24|       0|[12.0,5.0,606.0,2...|    0|\n",
      "+----+---+--------+---+--------+--------------------+-----+\n",
      "only showing top 20 rows\n",
      "\n",
      "CPU times: user 6.12 ms, sys: 7.11 ms, total: 13.2 ms\n",
      "Wall time: 31.7 s\n"
     ]
    },
    {
     "name": "stderr",
     "output_type": "stream",
     "text": [
      "\r",
      "                                                                                \r"
     ]
    }
   ],
   "source": [
    "%%time\n",
    "df = test_data.withColumn(\"score\", predict(*feature_columns))\n",
    "df.show()"
   ]
  },
  {
   "cell_type": "code",
   "execution_count": 22,
   "id": "c1e981c3",
   "metadata": {},
   "outputs": [
    {
     "name": "stderr",
     "output_type": "stream",
     "text": [
      "                                                                                \r"
     ]
    },
    {
     "name": "stdout",
     "output_type": "stream",
     "text": [
      "0.9970524671641603\n",
      "CPU times: user 16.9 ms, sys: 26.4 ms, total: 43.3 ms\n",
      "Wall time: 1min 24s\n"
     ]
    }
   ],
   "source": [
    "%%time\n",
    "correct = df.filter(col('score')==col('is_fraud')).count()\n",
    "total = df.count()\n",
    "\n",
    "print(correct/total)"
   ]
  },
  {
   "cell_type": "markdown",
   "id": "9ba271d6",
   "metadata": {},
   "source": [
    "### Caching the previously trained model and making predictions on cached data"
   ]
  },
  {
   "cell_type": "code",
   "execution_count": 32,
   "id": "b71f6e4f",
   "metadata": {},
   "outputs": [],
   "source": [
    "model_pkl = sc.binaryFiles(\"rf_model.pkl\")\n",
    "model_pkl.cache()\n",
    "model_data = model_pkl.collect()\n",
    "rf_model = pickle.loads(model_data[0][1])\n",
    "rf_model_bc = sc.broadcast(rf_model)\n",
    "\n",
    "def predict_fn(*cols):\n",
    "    cols = np.array(cols).reshape((1,-1))\n",
    "    prediction = rf_model_bc.value.predict_proba((cols))\n",
    "    return int( float(prediction[0,1]) > 0.5 )\n",
    "\n",
    "predict = udf(predict_fn, IntegerType())"
   ]
  },
  {
   "cell_type": "code",
   "execution_count": 33,
   "id": "a8166c4c",
   "metadata": {},
   "outputs": [
    {
     "name": "stderr",
     "output_type": "stream",
     "text": [
      "\r",
      "[Stage 112:>                                                        (0 + 1) / 1]\r"
     ]
    },
    {
     "name": "stdout",
     "output_type": "stream",
     "text": [
      "+----+---+--------+---+--------+--------------------+-----+\n",
      "|time|amt|city_pop|age|is_fraud|            features|score|\n",
      "+----+---+--------+---+--------+--------------------+-----+\n",
      "|  12|  2|  333497| 53|       0|[12.0,2.0,333497....|    0|\n",
      "|  12| 29|     302| 31|       0|[12.0,29.0,302.0,...|    0|\n",
      "|  12| 41|   34496| 51|       0|[12.0,41.0,34496....|    0|\n",
      "|  12| 60|   54767| 34|       0|[12.0,60.0,54767....|    0|\n",
      "|  12|  3|    1126| 66|       0|[12.0,3.0,1126.0,...|    0|\n",
      "|  12| 19|     520| 30|       0|[12.0,19.0,520.0,...|    0|\n",
      "|  12|133|    1139| 70|       0|[12.0,133.0,1139....|    0|\n",
      "|  12| 10|     343| 49|       0|[12.0,10.0,343.0,...|    0|\n",
      "|  12|  4|    3688| 48|       0|[12.0,4.0,3688.0,...|    0|\n",
      "|  12| 66|     263| 65|       0|[12.0,66.0,263.0,...|    0|\n",
      "|  12|  7|     564| 25|       0|[12.0,7.0,564.0,2...|    0|\n",
      "|  12| 42|    1645| 45|       0|[12.0,42.0,1645.0...|    0|\n",
      "|  12|  2|   26551| 44|       0|[12.0,2.0,26551.0...|    0|\n",
      "|  12|  7|    2258| 84|       0|[12.0,7.0,2258.0,...|    0|\n",
      "|  12|  2|    1089| 50|       0|[12.0,2.0,1089.0,...|    0|\n",
      "|  12| 24|   88735| 33|       0|[12.0,24.0,88735....|    0|\n",
      "|  12|  2|   32891| 34|       0|[12.0,2.0,32891.0...|    0|\n",
      "|  12| 16|    5875| 29|       0|[12.0,16.0,5875.0...|    0|\n",
      "|  12| 80|   10076| 44|       0|[12.0,80.0,10076....|    0|\n",
      "|  12|  5|     606| 24|       0|[12.0,5.0,606.0,2...|    0|\n",
      "+----+---+--------+---+--------+--------------------+-----+\n",
      "only showing top 20 rows\n",
      "\n",
      "CPU times: user 7.27 ms, sys: 8.58 ms, total: 15.8 ms\n",
      "Wall time: 30.2 s\n"
     ]
    },
    {
     "name": "stderr",
     "output_type": "stream",
     "text": [
      "\r",
      "                                                                                \r"
     ]
    }
   ],
   "source": [
    "%%time\n",
    "df = test_data.withColumn(\"score\", predict(*feature_columns))\n",
    "df.show()"
   ]
  },
  {
   "cell_type": "code",
   "execution_count": 34,
   "id": "1e5ef82c",
   "metadata": {},
   "outputs": [
    {
     "name": "stderr",
     "output_type": "stream",
     "text": [
      "                                                                                \r"
     ]
    },
    {
     "name": "stdout",
     "output_type": "stream",
     "text": [
      "0.9970524671641603\n",
      "CPU times: user 12.6 ms, sys: 15.6 ms, total: 28.1 ms\n",
      "Wall time: 1min 25s\n"
     ]
    }
   ],
   "source": [
    "%%time\n",
    "correct = df.filter(col('score')==col('is_fraud')).count()\n",
    "total = df.count()\n",
    "\n",
    "print(correct/total)"
   ]
  },
  {
   "cell_type": "code",
   "execution_count": 35,
   "id": "408b303b",
   "metadata": {},
   "outputs": [],
   "source": [
    "# train_data.unpersist()\n",
    "# test_data.unpersist()"
   ]
  },
  {
   "cell_type": "markdown",
   "id": "cb549c9d",
   "metadata": {},
   "source": [
    "## Evaluation of pyspark model"
   ]
  },
  {
   "cell_type": "code",
   "execution_count": 36,
   "id": "2dd35fa2",
   "metadata": {},
   "outputs": [],
   "source": [
    "from pyspark.ml.evaluation import BinaryClassificationEvaluator\n",
    "from pyspark.mllib.evaluation import MulticlassMetrics\n",
    "from pyspark.sql.types import FloatType\n",
    "import pyspark.sql.functions as F\n",
    "from itertools import chain"
   ]
  },
  {
   "cell_type": "code",
   "execution_count": 37,
   "id": "a2084290",
   "metadata": {},
   "outputs": [
    {
     "name": "stdout",
     "output_type": "stream",
     "text": [
      "Accuracy = 0.9119739259417061\n",
      "Test Error = 0.08802607405829388\n"
     ]
    },
    {
     "name": "stderr",
     "output_type": "stream",
     "text": [
      "[Stage 135:>                                                        (0 + 1) / 1]\r"
     ]
    },
    {
     "name": "stdout",
     "output_type": "stream",
     "text": [
      "[[553574.      0.]\n",
      " [  2145.      0.]]\n"
     ]
    },
    {
     "name": "stderr",
     "output_type": "stream",
     "text": [
      "\r",
      "                                                                                \r"
     ]
    }
   ],
   "source": [
    "predictions = rf_model_spark.transform(test_data)\n",
    "evaluator = BinaryClassificationEvaluator(labelCol=\"is_fraud\", rawPredictionCol=\"rawPrediction\")\n",
    "accuracy = evaluator.evaluate(predictions)\n",
    "print(\"Accuracy = %s\" % (accuracy))\n",
    "print(\"Test Error = %s\" % (1.0 - accuracy))\n",
    "\n",
    "\n",
    "preds_and_labels = predictions.select(['prediction','is_fraud']).withColumn('is_fraud', F.col('is_fraud').cast(FloatType())).orderBy('prediction')\n",
    "preds_and_labels = preds_and_labels.select(['prediction','is_fraud'])\n",
    "metrics = MulticlassMetrics(preds_and_labels.rdd.map(tuple))\n",
    "print(metrics.confusionMatrix().toArray())"
   ]
  },
  {
   "cell_type": "markdown",
   "id": "10c45a41",
   "metadata": {},
   "source": [
    "## Weighted training"
   ]
  },
  {
   "cell_type": "code",
   "execution_count": 38,
   "id": "a3523215",
   "metadata": {},
   "outputs": [
    {
     "name": "stdout",
     "output_type": "stream",
     "text": [
      "{1: 86.37589928057554, 0: 0.5029111776656126}\n"
     ]
    }
   ],
   "source": [
    "y_collect = train_data.select(\"is_fraud\").groupBy(\"is_fraud\").count().collect()\n",
    "unique_y = [x[\"is_fraud\"] for x in y_collect]\n",
    "total_y = sum([x[\"count\"] for x in y_collect])\n",
    "unique_y_count = len(y_collect)\n",
    "bin_count = [x[\"count\"] for x in y_collect]\n",
    "\n",
    "class_weights_spark = {i: ii for i, ii in zip(unique_y, total_y / (unique_y_count * np.array(bin_count)))}\n",
    "print(class_weights_spark) \n",
    "\n",
    "mapping_expr = F.create_map([F.lit(x) for x in chain(*class_weights_spark.items())])\n",
    "train_data = train_data.withColumn(\"weight\", mapping_expr.getItem(F.col(\"is_fraud\")))"
   ]
  },
  {
   "cell_type": "code",
   "execution_count": 39,
   "id": "285f8734",
   "metadata": {
    "scrolled": true
   },
   "outputs": [
    {
     "name": "stdout",
     "output_type": "stream",
     "text": [
      "CPU times: user 16.7 ms, sys: 35.1 ms, total: 51.8 ms\n",
      "Wall time: 1.82 s\n"
     ]
    }
   ],
   "source": [
    "%%time\n",
    "rf_weight = RandomForestClassifier(maxDepth=3,numTrees=10,labelCol=\"is_fraud\",featuresCol='features',weightCol=\"weight\", seed=6)\n",
    "rf_model_weight = rf_weight.fit(train_data)"
   ]
  },
  {
   "cell_type": "code",
   "execution_count": 40,
   "id": "dbe063f7",
   "metadata": {
    "scrolled": true
   },
   "outputs": [
    {
     "name": "stdout",
     "output_type": "stream",
     "text": [
      "Accuracy = 0.9424058617591913\n",
      "Test Error = 0.05759413824080872\n"
     ]
    },
    {
     "name": "stderr",
     "output_type": "stream",
     "text": [
      "[Stage 169:>                                                        (0 + 1) / 1]\r"
     ]
    },
    {
     "name": "stdout",
     "output_type": "stream",
     "text": [
      "[[5.19583e+05 3.39910e+04]\n",
      " [3.60000e+02 1.78500e+03]]\n"
     ]
    },
    {
     "name": "stderr",
     "output_type": "stream",
     "text": [
      "\r",
      "                                                                                \r"
     ]
    }
   ],
   "source": [
    "predictions = rf_model_weight.transform(test_data)\n",
    "evaluator = BinaryClassificationEvaluator(labelCol=\"is_fraud\", rawPredictionCol=\"rawPrediction\")\n",
    "accuracy = evaluator.evaluate(predictions)\n",
    "print(\"Accuracy = %s\" % (accuracy))\n",
    "print(\"Test Error = %s\" % (1.0 - accuracy))\n",
    "\n",
    "\n",
    "preds_and_labels = predictions.select(['prediction','is_fraud']).withColumn('is_fraud', F.col('is_fraud').cast(FloatType())).orderBy('prediction')\n",
    "preds_and_labels = preds_and_labels.select(['prediction','is_fraud'])\n",
    "metrics = MulticlassMetrics(preds_and_labels.rdd.map(tuple))\n",
    "print(metrics.confusionMatrix().toArray())"
   ]
  },
  {
   "cell_type": "code",
   "execution_count": 53,
   "id": "04d406f6",
   "metadata": {},
   "outputs": [
    {
     "data": {
      "image/png": "[encoded data removed]",
      "text/plain": [
       "<Figure size 720x432 with 1 Axes>"
      ]
     },
     "metadata": {
      "needs_background": "light"
     },
     "output_type": "display_data"
    }
   ],
   "source": [
    "import matplotlib.pyplot as plt\n",
    "N=3\n",
    "ind = np.arange(N) \n",
    "width = 0.35 \n",
    "\n",
    "non_cache = [9.88, 0.0452, 29.8]\n",
    "cache = [2.51, 0.0436, 30.3]\n",
    "\n",
    "plt.figure(figsize=(10,6))\n",
    "plt.bar(ind, non_cache, width, label='Non-Cache')\n",
    "plt.bar(ind + width, cache, width,\n",
    "    label='Cache')\n",
    "plt.yscale(\"log\")\n",
    "plt.xticks(ind + width / 2, ('Pyspark train','Pyspark pred','Broadcast pred'))\n",
    "plt.ylabel(\"Time (s)\")\n",
    "plt.legend(loc='best')\n",
    "plt.show()"
   ]
  },
  {
   "cell_type": "code",
   "execution_count": null,
   "id": "2199caf5",
   "metadata": {},
   "outputs": [],
   "source": []
  }
 ],
 "metadata": {
  "kernelspec": {
   "display_name": "Python 3 (ipykernel)",
   "language": "python",
   "name": "python3"
  },
  "language_info": {
   "codemirror_mode": {
    "name": "ipython",
    "version": 3
   },
   "file_extension": ".py",
   "mimetype": "text/x-python",
   "name": "python",
   "nbconvert_exporter": "python",
   "pygments_lexer": "ipython3",
   "version": "3.9.7"
  }
 },
 "nbformat": 4,
 "nbformat_minor": 5
}
