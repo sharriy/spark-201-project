{
 "cells": [
  {
   "cell_type": "code",
   "execution_count": 1,
   "id": "aebafe63-6552-451f-8951-2895b5c18348",
   "metadata": {},
   "outputs": [],
   "source": [
    "import findspark\n",
    "findspark.init()"
   ]
  },
  {
   "cell_type": "code",
   "execution_count": 2,
   "id": "c842eb55-395e-4d60-bdc4-e068f90066ce",
   "metadata": {},
   "outputs": [],
   "source": [
    "from pyspark.sql import SparkSession\n",
    "from pyspark.sql.functions import col, udf,lit\n",
    "from pyspark.sql.types import DoubleType, IntegerType\n",
    "from pyspark.ml.feature import VectorAssembler\n",
    "from pyspark.ml.classification import RandomForestClassifier\n",
    "from pyspark.ml import Pipeline\n",
    "import pickle\n",
    "import pandas as pd\n",
    "import numpy as np\n",
    "from transform import *"
   ]
  },
  {
   "cell_type": "code",
   "execution_count": 3,
   "id": "7adeb51b-da26-4215-941e-612101d900ab",
   "metadata": {},
   "outputs": [
    {
     "name": "stderr",
     "output_type": "stream",
     "text": [
      "WARNING: An illegal reflective access operation has occurred\n",
      "WARNING: Illegal reflective access by org.apache.spark.unsafe.Platform (file:/usr/local/Cellar/apache-spark/3.2.1/libexec/jars/spark-unsafe_2.12-3.2.1.jar) to constructor java.nio.DirectByteBuffer(long,int)\n",
      "WARNING: Please consider reporting this to the maintainers of org.apache.spark.unsafe.Platform\n",
      "WARNING: Use --illegal-access=warn to enable warnings of further illegal reflective access operations\n",
      "WARNING: All illegal access operations will be denied in a future release\n",
      "Setting default log level to \"WARN\".\n",
      "To adjust logging level use sc.setLogLevel(newLevel). For SparkR, use setLogLevel(newLevel).\n"
     ]
    }
   ],
   "source": [
    "spark = SparkSession.builder \\\n",
    "                    .master(\"local[*]\") \\\n",
    "                    .appName('Spark-201-project') \\\n",
    "                    .getOrCreate()\n",
    "\n",
    "sc = spark.sparkContext"
   ]
  },
  {
   "cell_type": "markdown",
   "id": "2c4828cc",
   "metadata": {},
   "source": [
    "## Read train and test data"
   ]
  },
  {
   "cell_type": "code",
   "execution_count": 4,
   "id": "744422b3-6d75-4daa-8109-e67603bbbc60",
   "metadata": {},
   "outputs": [
    {
     "name": "stdout",
     "output_type": "stream",
     "text": [
      "CPU times: user 2.84 ms, sys: 4 ms, total: 6.84 ms\n",
      "Wall time: 3.49 s\n"
     ]
    }
   ],
   "source": [
    "%%time\n",
    "train_df = spark.read.csv('data/fraudTrain.csv', header=True)\n",
    "test_df = spark.read.csv('data/fraudTest.csv', header=True)"
   ]
  },
  {
   "cell_type": "markdown",
   "id": "ed355046",
   "metadata": {},
   "source": [
    "### Transform data using transformation pipeline"
   ]
  },
  {
   "cell_type": "code",
   "execution_count": 5,
   "id": "7efc7fbe",
   "metadata": {},
   "outputs": [],
   "source": [
    "get_age_fn = get_age_from_dob(input_col=\"dob\", output_col=\"age\")\n",
    "get_time_fn = get_time(input_col=\"trans_date_trans_time\", output_col=\"time\")\n",
    "amt_int_fn = cast_int(input_col=\"amt\",output_col=\"amt\")\n",
    "city_pop_int_fn = cast_int(input_col=\"city_pop\",output_col=\"city_pop\")\n",
    "is_fraud_int_fn = cast_int(input_col=\"is_fraud\",output_col=\"is_fraud\")\n",
    "\n",
    "transformer_pipeline = Pipeline(stages=[get_age_fn,get_time_fn,amt_int_fn,city_pop_int_fn,is_fraud_int_fn])"
   ]
  },
  {
   "cell_type": "code",
   "execution_count": 6,
   "id": "5d94b8fc",
   "metadata": {},
   "outputs": [
    {
     "name": "stdout",
     "output_type": "stream",
     "text": [
      "CPU times: user 27.2 ms, sys: 40.1 ms, total: 67.2 ms\n",
      "Wall time: 298 ms\n"
     ]
    }
   ],
   "source": [
    "%%time\n",
    "transformer_model = transformer_pipeline.fit(train_df)\n",
    "train_df = transformer_model.transform(train_df)\n",
    "test_df = transformer_model.transform(test_df)"
   ]
  },
  {
   "cell_type": "code",
   "execution_count": 7,
   "id": "4485a7ff-39d3-40f5-a00f-aadf11a63733",
   "metadata": {},
   "outputs": [],
   "source": [
    "train_data = train_df.select(col(\"time\"), col(\"amt\"), col(\"city_pop\"), col(\"age\"), col(\"is_fraud\"))\n",
    "test_data = test_df.select(col(\"time\"), col(\"amt\"), col(\"city_pop\"), col(\"age\"), col(\"is_fraud\"))"
   ]
  },
  {
   "cell_type": "code",
   "execution_count": 8,
   "id": "27123308-0b4e-446c-ba32-4604674eba4b",
   "metadata": {},
   "outputs": [
    {
     "name": "stderr",
     "output_type": "stream",
     "text": [
      "\r",
      "[Stage 2:>                                                          (0 + 1) / 1]\r",
      "\r",
      "                                                                                \r"
     ]
    },
    {
     "name": "stdout",
     "output_type": "stream",
     "text": [
      "+----+---+--------+---+--------+\n",
      "|time|amt|city_pop|age|is_fraud|\n",
      "+----+---+--------+---+--------+\n",
      "|   0|  4|    3495| 33|       0|\n",
      "|   0|107|     149| 43|       0|\n",
      "|   0|220|    4154| 59|       0|\n",
      "|   0| 45|    1939| 54|       0|\n",
      "|   0| 41|      99| 35|       0|\n",
      "|   0| 94|    2158| 60|       0|\n",
      "|   0| 44|    2691| 28|       0|\n",
      "|   0| 71|    6018| 74|       0|\n",
      "|   0|  4|    1472| 80|       0|\n",
      "|   0|198|  151785| 47|       0|\n",
      "|   0| 24|    7297| 31|       0|\n",
      "|   0|  7|    1925| 55|       0|\n",
      "|   0| 71|  341043| 32|       0|\n",
      "|   0| 96|     589| 76|       0|\n",
      "|   0|  7|     899| 54|       0|\n",
      "|   0|  3|    4664| 56|       0|\n",
      "|   0|327|    1078| 69|       0|\n",
      "|   0|341|    4081| 83|       0|\n",
      "|   0| 63|    2518| 75|       0|\n",
      "|   0| 44|  124967| 41|       0|\n",
      "+----+---+--------+---+--------+\n",
      "only showing top 20 rows\n",
      "\n",
      "root\n",
      " |-- time: integer (nullable = true)\n",
      " |-- amt: integer (nullable = true)\n",
      " |-- city_pop: integer (nullable = true)\n",
      " |-- age: integer (nullable = true)\n",
      " |-- is_fraud: integer (nullable = true)\n",
      "\n"
     ]
    }
   ],
   "source": [
    "train_data.show()\n",
    "train_data.printSchema()"
   ]
  },
  {
   "cell_type": "markdown",
   "id": "51d65e23",
   "metadata": {},
   "source": [
    "## PySpark Model"
   ]
  },
  {
   "cell_type": "markdown",
   "id": "83399925",
   "metadata": {},
   "source": [
    "### Create features for training model"
   ]
  },
  {
   "cell_type": "code",
   "execution_count": 9,
   "id": "a9ea8764",
   "metadata": {},
   "outputs": [],
   "source": [
    "feature_columns = ['time', 'amt', 'city_pop', 'age']\n",
    "assembler = VectorAssembler(inputCols=feature_columns, outputCol='features')\n",
    "train_data = assembler.transform(train_data)\n",
    "test_data = assembler.transform(test_data)"
   ]
  },
  {
   "cell_type": "markdown",
   "id": "b74661d9",
   "metadata": {},
   "source": [
    "### Train"
   ]
  },
  {
   "cell_type": "code",
   "execution_count": 10,
   "id": "d87e4ce4",
   "metadata": {},
   "outputs": [],
   "source": [
    "rf = RandomForestClassifier(maxDepth=3,numTrees=10,labelCol=\"is_fraud\",featuresCol='features', seed=6)"
   ]
  },
  {
   "cell_type": "code",
   "execution_count": 11,
   "id": "225c9b9b",
   "metadata": {},
   "outputs": [
    {
     "name": "stderr",
     "output_type": "stream",
     "text": [
      "                                                                                \r"
     ]
    },
    {
     "name": "stdout",
     "output_type": "stream",
     "text": [
      "CPU times: user 31.9 ms, sys: 51.1 ms, total: 83 ms\n",
      "Wall time: 14.1 s\n"
     ]
    }
   ],
   "source": [
    "%%time\n",
    "rf_model_spark = rf.fit(train_data)"
   ]
  },
  {
   "cell_type": "markdown",
   "id": "1db00667",
   "metadata": {},
   "source": [
    "### Predictions"
   ]
  },
  {
   "cell_type": "code",
   "execution_count": 12,
   "id": "5075b8ff",
   "metadata": {},
   "outputs": [
    {
     "name": "stdout",
     "output_type": "stream",
     "text": [
      "CPU times: user 10 ms, sys: 14.5 ms, total: 24.5 ms\n",
      "Wall time: 122 ms\n"
     ]
    }
   ],
   "source": [
    "%%time\n",
    "predictions = rf_model_spark.transform(test_data)"
   ]
  },
  {
   "cell_type": "code",
   "execution_count": 13,
   "id": "093c68d2",
   "metadata": {},
   "outputs": [
    {
     "name": "stderr",
     "output_type": "stream",
     "text": [
      "                                                                                \r"
     ]
    },
    {
     "name": "stdout",
     "output_type": "stream",
     "text": [
      "Accuracy:  0.9961401355721147\n",
      "CPU times: user 8.63 ms, sys: 19 ms, total: 27.6 ms\n",
      "Wall time: 2.16 s\n"
     ]
    }
   ],
   "source": [
    "%%time\n",
    "correct = predictions.where(col('prediction')==col('is_fraud')).count()\n",
    "total = predictions.count()\n",
    "\n",
    "print(\"Accuracy: \", correct/total)"
   ]
  },
  {
   "cell_type": "markdown",
   "id": "7af38049",
   "metadata": {},
   "source": [
    "## Load and broadcast a previously trained RF model"
   ]
  },
  {
   "cell_type": "code",
   "execution_count": 14,
   "id": "ae33cbe3-0570-4ae8-a915-bb6ea97a7e79",
   "metadata": {},
   "outputs": [],
   "source": [
    "model_data = sc.binaryFiles(\"rf_model.pkl\").collect()\n",
    "rf_model = pickle.loads(model_data[0][1])\n",
    "rf_model_bc = sc.broadcast(rf_model)\n",
    "\n",
    "def predict_fn(*cols):\n",
    "    cols = np.array(cols).reshape((1,-1))\n",
    "    prediction = rf_model_bc.value.predict_proba((cols))\n",
    "    return int( float(prediction[0,1]) > 0.5 )\n",
    "\n",
    "predict = udf(predict_fn, IntegerType())"
   ]
  },
  {
   "cell_type": "markdown",
   "id": "d2bae751",
   "metadata": {},
   "source": [
    "### Predictions"
   ]
  },
  {
   "cell_type": "code",
   "execution_count": 15,
   "id": "16ff4273",
   "metadata": {},
   "outputs": [
    {
     "name": "stderr",
     "output_type": "stream",
     "text": [
      "\r",
      "[Stage 23:>                                                         (0 + 1) / 1]\r"
     ]
    },
    {
     "name": "stdout",
     "output_type": "stream",
     "text": [
      "+----+---+--------+---+--------+--------------------+-----+\n",
      "|time|amt|city_pop|age|is_fraud|            features|score|\n",
      "+----+---+--------+---+--------+--------------------+-----+\n",
      "|  12|  2|  333497| 53|       0|[12.0,2.0,333497....|    0|\n",
      "|  12| 29|     302| 31|       0|[12.0,29.0,302.0,...|    0|\n",
      "|  12| 41|   34496| 51|       0|[12.0,41.0,34496....|    0|\n",
      "|  12| 60|   54767| 34|       0|[12.0,60.0,54767....|    0|\n",
      "|  12|  3|    1126| 66|       0|[12.0,3.0,1126.0,...|    0|\n",
      "|  12| 19|     520| 30|       0|[12.0,19.0,520.0,...|    0|\n",
      "|  12|133|    1139| 70|       0|[12.0,133.0,1139....|    0|\n",
      "|  12| 10|     343| 49|       0|[12.0,10.0,343.0,...|    0|\n",
      "|  12|  4|    3688| 48|       0|[12.0,4.0,3688.0,...|    0|\n",
      "|  12| 66|     263| 65|       0|[12.0,66.0,263.0,...|    0|\n",
      "|  12|  7|     564| 25|       0|[12.0,7.0,564.0,2...|    0|\n",
      "|  12| 42|    1645| 45|       0|[12.0,42.0,1645.0...|    0|\n",
      "|  12|  2|   26551| 44|       0|[12.0,2.0,26551.0...|    0|\n",
      "|  12|  7|    2258| 84|       0|[12.0,7.0,2258.0,...|    0|\n",
      "|  12|  2|    1089| 50|       0|[12.0,2.0,1089.0,...|    0|\n",
      "|  12| 24|   88735| 33|       0|[12.0,24.0,88735....|    0|\n",
      "|  12|  2|   32891| 34|       0|[12.0,2.0,32891.0...|    0|\n",
      "|  12| 16|    5875| 29|       0|[12.0,16.0,5875.0...|    0|\n",
      "|  12| 80|   10076| 44|       0|[12.0,80.0,10076....|    0|\n",
      "|  12|  5|     606| 24|       0|[12.0,5.0,606.0,2...|    0|\n",
      "+----+---+--------+---+--------+--------------------+-----+\n",
      "only showing top 20 rows\n",
      "\n",
      "CPU times: user 7.31 ms, sys: 7.76 ms, total: 15.1 ms\n",
      "Wall time: 32 s\n"
     ]
    },
    {
     "name": "stderr",
     "output_type": "stream",
     "text": [
      "\r",
      "                                                                                \r"
     ]
    }
   ],
   "source": [
    "%%time\n",
    "df = test_data.withColumn(\"score\", predict(*feature_columns))\n",
    "df.show()"
   ]
  },
  {
   "cell_type": "code",
   "execution_count": 16,
   "id": "c1e981c3",
   "metadata": {},
   "outputs": [
    {
     "name": "stderr",
     "output_type": "stream",
     "text": [
      "                                                                                \r"
     ]
    },
    {
     "name": "stdout",
     "output_type": "stream",
     "text": [
      "0.9970524671641603\n",
      "CPU times: user 14.3 ms, sys: 13.6 ms, total: 28 ms\n",
      "Wall time: 1min 43s\n"
     ]
    }
   ],
   "source": [
    "%%time\n",
    "correct = df.filter(col('score')==col('is_fraud')).count()\n",
    "total = df.count()\n",
    "\n",
    "print(correct/total)"
   ]
  },
  {
   "cell_type": "markdown",
   "id": "6a413c40",
   "metadata": {},
   "source": [
    "## Caching\n"
   ]
  },
  {
   "cell_type": "code",
   "execution_count": 17,
   "id": "056d8687",
   "metadata": {},
   "outputs": [
    {
     "data": {
      "text/plain": [
       "DataFrame[time: int, amt: int, city_pop: int, age: int, is_fraud: int, features: vector]"
      ]
     },
     "execution_count": 17,
     "metadata": {},
     "output_type": "execute_result"
    }
   ],
   "source": [
    "train_data.cache()\n",
    "test_data.cache()"
   ]
  },
  {
   "cell_type": "markdown",
   "id": "c71fb1c8",
   "metadata": {},
   "source": [
    "### Re-train Pyspark model"
   ]
  },
  {
   "cell_type": "code",
   "execution_count": 18,
   "id": "d4c09869",
   "metadata": {},
   "outputs": [
    {
     "name": "stderr",
     "output_type": "stream",
     "text": [
      "                                                                                \r"
     ]
    },
    {
     "name": "stdout",
     "output_type": "stream",
     "text": [
      "CPU times: user 27.1 ms, sys: 50.2 ms, total: 77.3 ms\n",
      "Wall time: 5.73 s\n"
     ]
    }
   ],
   "source": [
    "%%time\n",
    "rf_model_spark = rf.fit(train_data)"
   ]
  },
  {
   "cell_type": "markdown",
   "id": "c2f3f160",
   "metadata": {},
   "source": [
    "### Predictions"
   ]
  },
  {
   "cell_type": "code",
   "execution_count": 19,
   "id": "5075b8ff",
   "metadata": {},
   "outputs": [
    {
     "name": "stdout",
     "output_type": "stream",
     "text": [
      "CPU times: user 8.48 ms, sys: 13.1 ms, total: 21.6 ms\n",
      "Wall time: 64.4 ms\n"
     ]
    }
   ],
   "source": [
    "%%time\n",
    "predictions = rf_model_spark.transform(test_data)"
   ]
  },
  {
   "cell_type": "code",
   "execution_count": 20,
   "id": "093c68d2",
   "metadata": {
    "scrolled": true
   },
   "outputs": [
    {
     "name": "stderr",
     "output_type": "stream",
     "text": [
      "[Stage 43:===>                                                    (1 + 15) / 16]\r"
     ]
    },
    {
     "name": "stdout",
     "output_type": "stream",
     "text": [
      "Accuracy:  0.9961401355721147\n",
      "CPU times: user 11.4 ms, sys: 27.4 ms, total: 38.8 ms\n",
      "Wall time: 1.99 s\n"
     ]
    },
    {
     "name": "stderr",
     "output_type": "stream",
     "text": [
      "\r",
      "                                                                                \r"
     ]
    }
   ],
   "source": [
    "%%time\n",
    "correct = predictions.where(col('prediction')==col('is_fraud')).count()\n",
    "total = predictions.count()\n",
    "\n",
    "print(\"Accuracy: \", correct/total)"
   ]
  },
  {
   "cell_type": "markdown",
   "id": "44a97dbd",
   "metadata": {},
   "source": [
    "### Predictions for broadcasted model"
   ]
  },
  {
   "cell_type": "code",
   "execution_count": 21,
   "id": "16ff4273",
   "metadata": {},
   "outputs": [
    {
     "name": "stderr",
     "output_type": "stream",
     "text": [
      "\r",
      "[Stage 49:>                                                         (0 + 1) / 1]\r"
     ]
    },
    {
     "name": "stdout",
     "output_type": "stream",
     "text": [
      "+----+---+--------+---+--------+--------------------+-----+\n",
      "|time|amt|city_pop|age|is_fraud|            features|score|\n",
      "+----+---+--------+---+--------+--------------------+-----+\n",
      "|  12|  2|  333497| 53|       0|[12.0,2.0,333497....|    0|\n",
      "|  12| 29|     302| 31|       0|[12.0,29.0,302.0,...|    0|\n",
      "|  12| 41|   34496| 51|       0|[12.0,41.0,34496....|    0|\n",
      "|  12| 60|   54767| 34|       0|[12.0,60.0,54767....|    0|\n",
      "|  12|  3|    1126| 66|       0|[12.0,3.0,1126.0,...|    0|\n",
      "|  12| 19|     520| 30|       0|[12.0,19.0,520.0,...|    0|\n",
      "|  12|133|    1139| 70|       0|[12.0,133.0,1139....|    0|\n",
      "|  12| 10|     343| 49|       0|[12.0,10.0,343.0,...|    0|\n",
      "|  12|  4|    3688| 48|       0|[12.0,4.0,3688.0,...|    0|\n",
      "|  12| 66|     263| 65|       0|[12.0,66.0,263.0,...|    0|\n",
      "|  12|  7|     564| 25|       0|[12.0,7.0,564.0,2...|    0|\n",
      "|  12| 42|    1645| 45|       0|[12.0,42.0,1645.0...|    0|\n",
      "|  12|  2|   26551| 44|       0|[12.0,2.0,26551.0...|    0|\n",
      "|  12|  7|    2258| 84|       0|[12.0,7.0,2258.0,...|    0|\n",
      "|  12|  2|    1089| 50|       0|[12.0,2.0,1089.0,...|    0|\n",
      "|  12| 24|   88735| 33|       0|[12.0,24.0,88735....|    0|\n",
      "|  12|  2|   32891| 34|       0|[12.0,2.0,32891.0...|    0|\n",
      "|  12| 16|    5875| 29|       0|[12.0,16.0,5875.0...|    0|\n",
      "|  12| 80|   10076| 44|       0|[12.0,80.0,10076....|    0|\n",
      "|  12|  5|     606| 24|       0|[12.0,5.0,606.0,2...|    0|\n",
      "+----+---+--------+---+--------+--------------------+-----+\n",
      "only showing top 20 rows\n",
      "\n",
      "CPU times: user 6.62 ms, sys: 7.59 ms, total: 14.2 ms\n",
      "Wall time: 34.7 s\n"
     ]
    },
    {
     "name": "stderr",
     "output_type": "stream",
     "text": [
      "\r",
      "                                                                                \r"
     ]
    }
   ],
   "source": [
    "%%time\n",
    "df = test_data.withColumn(\"score\", predict(*feature_columns))\n",
    "df.show()"
   ]
  },
  {
   "cell_type": "code",
   "execution_count": 22,
   "id": "c1e981c3",
   "metadata": {},
   "outputs": [
    {
     "name": "stderr",
     "output_type": "stream",
     "text": [
      "[Stage 50:====================================================>   (15 + 1) / 16]\r"
     ]
    },
    {
     "name": "stdout",
     "output_type": "stream",
     "text": [
      "0.9970524671641603\n",
      "CPU times: user 17.3 ms, sys: 26.2 ms, total: 43.5 ms\n",
      "Wall time: 1min 33s\n"
     ]
    },
    {
     "name": "stderr",
     "output_type": "stream",
     "text": [
      "\r",
      "                                                                                \r"
     ]
    }
   ],
   "source": [
    "%%time\n",
    "correct = df.filter(col('score')==col('is_fraud')).count()\n",
    "total = df.count()\n",
    "\n",
    "print(correct/total)"
   ]
  },
  {
   "cell_type": "markdown",
   "id": "9ba271d6",
   "metadata": {},
   "source": [
    "### Caching the previously trained model and making predictions on cached data"
   ]
  },
  {
   "cell_type": "code",
   "execution_count": 23,
   "id": "b71f6e4f",
   "metadata": {},
   "outputs": [],
   "source": [
    "model_rdd_pkl = sc.binaryFiles(\"rf_model.pkl\")\n",
    "model_rdd_pkl.cache()\n",
    "model_rdd_data = model_rdd_pkl.collect()\n",
    "creditcardfrauddetection_model = pickle.loads(model_rdd_data[0][1])\n",
    "broadcast_creditcardfrauddetection_model = sc.broadcast(creditcardfrauddetection_model)\n",
    "\n",
    "def predict_fn(*cols):\n",
    "    cols = np.array(cols).reshape((1,-1))\n",
    "    prediction = broadcast_creditcardfrauddetection_model.value.predict_proba((cols))\n",
    "    return int( float(prediction[0,1]) > 0.5 )\n",
    "\n",
    "predict = udf(predict_fn, IntegerType())"
   ]
  },
  {
   "cell_type": "code",
   "execution_count": 24,
   "id": "a8166c4c",
   "metadata": {},
   "outputs": [
    {
     "name": "stderr",
     "output_type": "stream",
     "text": [
      "\r",
      "[Stage 57:>                                                         (0 + 1) / 1]\r"
     ]
    },
    {
     "name": "stdout",
     "output_type": "stream",
     "text": [
      "+----+---+--------+---+--------+--------------------+-----+\n",
      "|time|amt|city_pop|age|is_fraud|            features|score|\n",
      "+----+---+--------+---+--------+--------------------+-----+\n",
      "|  12|  2|  333497| 53|       0|[12.0,2.0,333497....|    0|\n",
      "|  12| 29|     302| 31|       0|[12.0,29.0,302.0,...|    0|\n",
      "|  12| 41|   34496| 51|       0|[12.0,41.0,34496....|    0|\n",
      "|  12| 60|   54767| 34|       0|[12.0,60.0,54767....|    0|\n",
      "|  12|  3|    1126| 66|       0|[12.0,3.0,1126.0,...|    0|\n",
      "|  12| 19|     520| 30|       0|[12.0,19.0,520.0,...|    0|\n",
      "|  12|133|    1139| 70|       0|[12.0,133.0,1139....|    0|\n",
      "|  12| 10|     343| 49|       0|[12.0,10.0,343.0,...|    0|\n",
      "|  12|  4|    3688| 48|       0|[12.0,4.0,3688.0,...|    0|\n",
      "|  12| 66|     263| 65|       0|[12.0,66.0,263.0,...|    0|\n",
      "|  12|  7|     564| 25|       0|[12.0,7.0,564.0,2...|    0|\n",
      "|  12| 42|    1645| 45|       0|[12.0,42.0,1645.0...|    0|\n",
      "|  12|  2|   26551| 44|       0|[12.0,2.0,26551.0...|    0|\n",
      "|  12|  7|    2258| 84|       0|[12.0,7.0,2258.0,...|    0|\n",
      "|  12|  2|    1089| 50|       0|[12.0,2.0,1089.0,...|    0|\n",
      "|  12| 24|   88735| 33|       0|[12.0,24.0,88735....|    0|\n",
      "|  12|  2|   32891| 34|       0|[12.0,2.0,32891.0...|    0|\n",
      "|  12| 16|    5875| 29|       0|[12.0,16.0,5875.0...|    0|\n",
      "|  12| 80|   10076| 44|       0|[12.0,80.0,10076....|    0|\n",
      "|  12|  5|     606| 24|       0|[12.0,5.0,606.0,2...|    0|\n",
      "+----+---+--------+---+--------+--------------------+-----+\n",
      "only showing top 20 rows\n",
      "\n",
      "CPU times: user 10.6 ms, sys: 13.6 ms, total: 24.2 ms\n",
      "Wall time: 33.9 s\n"
     ]
    },
    {
     "name": "stderr",
     "output_type": "stream",
     "text": [
      "\r",
      "                                                                                \r"
     ]
    }
   ],
   "source": [
    "%%time\n",
    "df = test_data.withColumn(\"score\", predict(*feature_columns))\n",
    "df.show()"
   ]
  },
  {
   "cell_type": "code",
   "execution_count": 25,
   "id": "1e5ef82c",
   "metadata": {},
   "outputs": [
    {
     "name": "stderr",
     "output_type": "stream",
     "text": [
      "[Stage 58:====================================================>   (15 + 1) / 16]\r"
     ]
    },
    {
     "name": "stdout",
     "output_type": "stream",
     "text": [
      "0.9970524671641603\n",
      "CPU times: user 14.2 ms, sys: 15.5 ms, total: 29.7 ms\n",
      "Wall time: 1min 40s\n"
     ]
    },
    {
     "name": "stderr",
     "output_type": "stream",
     "text": [
      "\r",
      "                                                                                \r"
     ]
    }
   ],
   "source": [
    "%%time\n",
    "correct = df.filter(col('score')==col('is_fraud')).count()\n",
    "total = df.count()\n",
    "\n",
    "print(correct/total)"
   ]
  },
  {
   "cell_type": "code",
   "execution_count": 26,
   "id": "408b303b",
   "metadata": {},
   "outputs": [
    {
     "data": {
      "text/plain": [
       "DataFrame[time: int, amt: int, city_pop: int, age: int, is_fraud: int, features: vector]"
      ]
     },
     "execution_count": 26,
     "metadata": {},
     "output_type": "execute_result"
    }
   ],
   "source": [
    "train_data.unpersist()\n",
    "test_data.unpersist()"
   ]
  }
 ],
 "metadata": {
  "kernelspec": {
   "display_name": "Python 3 (ipykernel)",
   "language": "python",
   "name": "python3"
  },
  "language_info": {
   "codemirror_mode": {
    "name": "ipython",
    "version": 3
   },
   "file_extension": ".py",
   "mimetype": "text/x-python",
   "name": "python",
   "nbconvert_exporter": "python",
   "pygments_lexer": "ipython3",
   "version": "3.9.7"
  }
 },
 "nbformat": 4,
 "nbformat_minor": 5
}
